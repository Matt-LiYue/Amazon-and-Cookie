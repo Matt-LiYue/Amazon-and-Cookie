{
 "metadata": {
  "name": "",
  "signature": "sha256:e0907d5dba568b23d2d3b519028833f9fad9ad1132dcdeb5769e17947c768351"
 },
 "nbformat": 3,
 "nbformat_minor": 0,
 "worksheets": []
}